{
 "metadata": {
  "language_info": {
   "codemirror_mode": {
    "name": "ipython",
    "version": 3
   },
   "file_extension": ".py",
   "mimetype": "text/x-python",
   "name": "python",
   "nbconvert_exporter": "python",
   "pygments_lexer": "ipython3",
   "version": "3.8.3-final"
  },
  "orig_nbformat": 2,
  "kernelspec": {
   "name": "python3",
   "display_name": "Python 3",
   "language": "python"
  }
 },
 "nbformat": 4,
 "nbformat_minor": 2,
 "cells": [
  {
   "source": [
    "## Generate a 10 rows of of 1,000,000 numbers (ranging from 1-999)\n"
   ],
   "cell_type": "markdown",
   "metadata": {}
  },
  {
   "cell_type": "code",
   "execution_count": 2,
   "metadata": {},
   "outputs": [],
   "source": [
    "import numpy as np"
   ]
  },
  {
   "source": [
    "## Generate average case dataset"
   ],
   "cell_type": "markdown",
   "metadata": {}
  },
  {
   "cell_type": "code",
   "execution_count": null,
   "metadata": {},
   "outputs": [],
   "source": [
    "min_num = 0\n",
    "max_num = 999\n",
    "np.random.seed(27)\n",
    "\n",
    "with open(\"average_case_dataset.txt\", \"w\") as f:\n",
    "    for pow in range(2, 7):\n",
    "        N = 10**pow\n",
    "        ori_arr = np.random.randint(low=MIN_NUM, high=MAX_NUM, size=N)\n",
    "        f.write(\",\".join([str(x) for x in ori_arr]) + \"\\n\")"
   ]
  },
  {
   "cell_type": "code",
   "execution_count": null,
   "metadata": {},
   "outputs": [],
   "source": []
  },
  {
   "source": [
    "## Generate best case dataset"
   ],
   "cell_type": "markdown",
   "metadata": {}
  },
  {
   "cell_type": "code",
   "execution_count": 12,
   "metadata": {},
   "outputs": [],
   "source": [
    "with open(\"best_case_dataset.txt\", \"w\") as f:\n",
    "    for pow in range(2, 7):\n",
    "        N = 10**pow\n",
    "        ori_arr = [x for x in range(N)]\n",
    "        f.write(\",\".join([str(x) for x in ori_arr]) + \"\\n\")"
   ]
  },
  {
   "source": [
    "Generate worst case dataset"
   ],
   "cell_type": "markdown",
   "metadata": {}
  },
  {
   "cell_type": "code",
   "execution_count": 4,
   "metadata": {},
   "outputs": [],
   "source": [
    "import math\n",
    "def worstCaseArrayOfSize(n):\n",
    "    if n == 1:\n",
    "        return [1]\n",
    "    else:\n",
    "        top = worstCaseArrayOfSize(int(math.floor(float(n) / 2)))\n",
    "        bottom = worstCaseArrayOfSize(int(math.ceil(float(n) / 2)))\n",
    "        return list(map(lambda x: x * 2, top)) + list(map(lambda x: x * 2 - 1, bottom))"
   ]
  },
  {
   "cell_type": "code",
   "execution_count": 13,
   "metadata": {},
   "outputs": [],
   "source": [
    "with open(\"worst_case_dataset.txt\", \"w\") as f:\n",
    "    for pow in range(2, 7):\n",
    "        N = 10**pow\n",
    "        ori_arr = worstCaseArrayOfSize(N)\n",
    "        f.write(\",\".join([str(x) for x in ori_arr]) + \"\\n\")"
   ]
  },
  {
   "cell_type": "code",
   "execution_count": null,
   "metadata": {},
   "outputs": [],
   "source": []
  }
 ]
}